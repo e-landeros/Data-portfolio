{
 "cells": [
  {
   "cell_type": "code",
   "execution_count": 113,
   "metadata": {},
   "outputs": [],
   "source": [
    "from scipy import stats\n",
    "import pandas as pd\n",
    " "
   ]
  },
  {
   "cell_type": "code",
   "execution_count": 114,
   "metadata": {},
   "outputs": [],
   "source": [
    "spy_etf = pd.read_csv('CAPM/SPY_Historical.csv')"
   ]
  },
  {
   "cell_type": "code",
   "execution_count": 115,
   "metadata": {},
   "outputs": [
    {
     "data": {
      "text/html": [
       "<div>\n",
       "<style scoped>\n",
       "    .dataframe tbody tr th:only-of-type {\n",
       "        vertical-align: middle;\n",
       "    }\n",
       "\n",
       "    .dataframe tbody tr th {\n",
       "        vertical-align: top;\n",
       "    }\n",
       "\n",
       "    .dataframe thead th {\n",
       "        text-align: right;\n",
       "    }\n",
       "</style>\n",
       "<table border=\"1\" class=\"dataframe\">\n",
       "  <thead>\n",
       "    <tr style=\"text-align: right;\">\n",
       "      <th></th>\n",
       "      <th>date</th>\n",
       "      <th>close</th>\n",
       "      <th>volume</th>\n",
       "      <th>open</th>\n",
       "      <th>high</th>\n",
       "      <th>low</th>\n",
       "    </tr>\n",
       "  </thead>\n",
       "  <tbody>\n",
       "    <tr>\n",
       "      <th>0</th>\n",
       "      <td>16:00</td>\n",
       "      <td>270.89</td>\n",
       "      <td>76,650,517</td>\n",
       "      <td>269.30</td>\n",
       "      <td>271.7500</td>\n",
       "      <td>268.49</td>\n",
       "    </tr>\n",
       "    <tr>\n",
       "      <th>1</th>\n",
       "      <td>2018/06/28</td>\n",
       "      <td>270.89</td>\n",
       "      <td>76511740.0000</td>\n",
       "      <td>269.29</td>\n",
       "      <td>271.7500</td>\n",
       "      <td>268.49</td>\n",
       "    </tr>\n",
       "    <tr>\n",
       "      <th>2</th>\n",
       "      <td>2018/06/27</td>\n",
       "      <td>269.35</td>\n",
       "      <td>104838900.0000</td>\n",
       "      <td>272.26</td>\n",
       "      <td>273.8650</td>\n",
       "      <td>269.18</td>\n",
       "    </tr>\n",
       "    <tr>\n",
       "      <th>3</th>\n",
       "      <td>2018/06/26</td>\n",
       "      <td>271.60</td>\n",
       "      <td>68525150.0000</td>\n",
       "      <td>271.64</td>\n",
       "      <td>272.5600</td>\n",
       "      <td>270.79</td>\n",
       "    </tr>\n",
       "    <tr>\n",
       "      <th>4</th>\n",
       "      <td>2018/06/25</td>\n",
       "      <td>271.00</td>\n",
       "      <td>137668700.0000</td>\n",
       "      <td>273.44</td>\n",
       "      <td>273.6162</td>\n",
       "      <td>269.10</td>\n",
       "    </tr>\n",
       "  </tbody>\n",
       "</table>\n",
       "</div>"
      ],
      "text/plain": [
       "         date   close          volume    open      high     low\n",
       "0       16:00  270.89      76,650,517  269.30  271.7500  268.49\n",
       "1  2018/06/28  270.89   76511740.0000  269.29  271.7500  268.49\n",
       "2  2018/06/27  269.35  104838900.0000  272.26  273.8650  269.18\n",
       "3  2018/06/26  271.60   68525150.0000  271.64  272.5600  270.79\n",
       "4  2018/06/25  271.00  137668700.0000  273.44  273.6162  269.10"
      ]
     },
     "execution_count": 115,
     "metadata": {},
     "output_type": "execute_result"
    }
   ],
   "source": [
    "spy_etf.head()"
   ]
  },
  {
   "cell_type": "code",
   "execution_count": 118,
   "metadata": {},
   "outputs": [],
   "source": [
    "spy_etf = spy_etf[['date','open', 'high', 'low', 'close', 'volume']]"
   ]
  },
  {
   "cell_type": "code",
   "execution_count": null,
   "metadata": {
    "collapsed": true
   },
   "outputs": [],
   "source": []
  }
 ],
 "metadata": {
  "kernelspec": {
   "display_name": "Python 3",
   "language": "python",
   "name": "python3"
  },
  "language_info": {
   "codemirror_mode": {
    "name": "ipython",
    "version": 3
   },
   "file_extension": ".py",
   "mimetype": "text/x-python",
   "name": "python",
   "nbconvert_exporter": "python",
   "pygments_lexer": "ipython3",
   "version": "3.6.5"
  }
 },
 "nbformat": 4,
 "nbformat_minor": 2
}
